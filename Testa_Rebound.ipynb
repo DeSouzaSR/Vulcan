{
 "cells": [
  {
   "cell_type": "code",
   "execution_count": 1,
   "metadata": {
    "collapsed": true
   },
   "outputs": [],
   "source": [
    "import rebound"
   ]
  },
  {
   "cell_type": "code",
   "execution_count": 2,
   "metadata": {
    "collapsed": true
   },
   "outputs": [],
   "source": [
    "sim = rebound.Simulation()"
   ]
  },
  {
   "cell_type": "code",
   "execution_count": 3,
   "metadata": {
    "collapsed": false
   },
   "outputs": [
    {
     "name": "stdout",
     "output_type": "stream",
     "text": [
      "Searching NASA Horizons for 'Jupiter'... Found: Jupiter Barycenter (5).\n"
     ]
    }
   ],
   "source": [
    "sim.add(\"Jupiter\")"
   ]
  },
  {
   "cell_type": "code",
   "execution_count": 4,
   "metadata": {
    "collapsed": true
   },
   "outputs": [],
   "source": [
    "sim2 = rebound.Simulation()"
   ]
  },
  {
   "cell_type": "code",
   "execution_count": 5,
   "metadata": {
    "collapsed": true
   },
   "outputs": [],
   "source": [
    "sim2.units = ('yr', 'AU', 'Msun')"
   ]
  },
  {
   "cell_type": "code",
   "execution_count": 7,
   "metadata": {
    "collapsed": false
   },
   "outputs": [
    {
     "name": "stdout",
     "output_type": "stream",
     "text": [
      "Searching NASA Horizons for 'Jupiter'... Found: Jupiter Barycenter (5).\n"
     ]
    }
   ],
   "source": [
    "sim2.add(\"Jupiter\")"
   ]
  },
  {
   "cell_type": "code",
   "execution_count": 19,
   "metadata": {
    "collapsed": false
   },
   "outputs": [
    {
     "name": "stdout",
     "output_type": "stream",
     "text": [
      "-5.0140860459709575\n",
      "-2.1289336089876914\n",
      "0.16632250945152038\n",
      "-0.38297636861016504\n"
     ]
    }
   ],
   "source": [
    "for i in sim.particles:\n",
    "    print(i.x)\n",
    "    print(i.y)\n",
    "    print(i.vx)\n",
    "    print(i.vy)"
   ]
  },
  {
   "cell_type": "code",
   "execution_count": 20,
   "metadata": {
    "collapsed": false
   },
   "outputs": [
    {
     "name": "stdout",
     "output_type": "stream",
     "text": [
      "-5.0140860459709575\n",
      "-2.1289336089876914\n",
      "1.0450154108633372\n",
      "-2.406266046092548\n"
     ]
    }
   ],
   "source": [
    "#Usando (\"yr\", \"AU\", \"Msun\")\n",
    "for j in sim2.particles:\n",
    "    print(j.x)\n",
    "    print(j.y)\n",
    "    print(j.vx)\n",
    "    print(j.vy)"
   ]
  },
  {
   "cell_type": "code",
   "execution_count": 25,
   "metadata": {
    "collapsed": false
   },
   "outputs": [
    {
     "name": "stdout",
     "output_type": "stream",
     "text": [
      "Resultado da simulação:\n",
      "-5.015647\n",
      "-2.125336\n",
      "0.166032\n",
      "-0.3831\n"
     ]
    }
   ],
   "source": [
    "print(\"Resultado da simulação:\")\n",
    "print(\"-5.015647\\n-2.125336\\n0.166032\\n-0.3831\")"
   ]
  },
  {
   "cell_type": "code",
   "execution_count": 26,
   "metadata": {
    "collapsed": true
   },
   "outputs": [],
   "source": [
    "sim3 = rebound.Simulation()"
   ]
  },
  {
   "cell_type": "code",
   "execution_count": 28,
   "metadata": {
    "collapsed": false
   },
   "outputs": [],
   "source": [
    "sim3.units = ('day', 'AU', 'Msun')"
   ]
  },
  {
   "cell_type": "code",
   "execution_count": 29,
   "metadata": {
    "collapsed": false
   },
   "outputs": [
    {
     "name": "stdout",
     "output_type": "stream",
     "text": [
      "Searching NASA Horizons for 'Jupiter'... Found: Jupiter Barycenter (5).\n"
     ]
    }
   ],
   "source": [
    "sim3.add(\"Jupiter\")"
   ]
  },
  {
   "cell_type": "code",
   "execution_count": 31,
   "metadata": {
    "collapsed": false
   },
   "outputs": [
    {
     "name": "stdout",
     "output_type": "stream",
     "text": [
      "-5.0140860459709575\n",
      "-2.1289336089876914\n",
      "0.0028610962651973637\n",
      "-0.006587997388343733\n",
      "-3.663645817620256e-05\n"
     ]
    }
   ],
   "source": [
    "#Usando (\"day\", \"AU\", \"Msun\")\n",
    "for k in sim3.particles:\n",
    "    print(k.x)\n",
    "    print(k.y)\n",
    "    print(k.vx)\n",
    "    print(k.vy)\n",
    "    print(k.vz)"
   ]
  },
  {
   "cell_type": "code",
   "execution_count": null,
   "metadata": {
    "collapsed": true
   },
   "outputs": [],
   "source": []
  }
 ],
 "metadata": {
  "kernelspec": {
   "display_name": "Python 3",
   "language": "python",
   "name": "python3"
  },
  "language_info": {
   "codemirror_mode": {
    "name": "ipython",
    "version": 3
   },
   "file_extension": ".py",
   "mimetype": "text/x-python",
   "name": "python",
   "nbconvert_exporter": "python",
   "pygments_lexer": "ipython3",
   "version": "3.6.0"
  }
 },
 "nbformat": 4,
 "nbformat_minor": 2
}
