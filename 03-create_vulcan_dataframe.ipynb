{
 "cells": [
  {
   "cell_type": "markdown",
   "metadata": {},
   "source": [
    "# Simulação de um Sistema Solar com um Vulcano"
   ]
  },
  {
   "cell_type": "markdown",
   "metadata": {},
   "source": [
    "## Criação de um dataframe para o Vulcano"
   ]
  },
  {
   "cell_type": "code",
   "execution_count": 8,
   "metadata": {
    "collapsed": true
   },
   "outputs": [],
   "source": [
    "# Import modules\n",
    "import os\n",
    "import yaml\n",
    "import pandas as pd\n",
    "import numpy as np\n",
    "from oe2pv import orbel_el2xv"
   ]
  },
  {
   "cell_type": "markdown",
   "metadata": {},
   "source": [
    "## Vetorizando a função de transformação de elementos orbitais"
   ]
  },
  {
   "cell_type": "code",
   "execution_count": 9,
   "metadata": {
    "collapsed": true
   },
   "outputs": [],
   "source": [
    "# Transforms orbel_el2xv in vectorized function\n",
    "orbel_el2xv_vec = np.vectorize(orbel_el2xv)"
   ]
  },
  {
   "cell_type": "markdown",
   "metadata": {},
   "source": [
    "## Definindo funções"
   ]
  },
  {
   "cell_type": "code",
   "execution_count": 10,
   "metadata": {
    "collapsed": true
   },
   "outputs": [],
   "source": [
    "def read_config_file(config_file):\n",
    "    \"\"\"\n",
    "    Read config file and go to home directory\n",
    "    \"\"\"\n",
    "    home_dir = os.path.dirname(os.path.abspath(config_file))\n",
    "    os.chdir(home_dir)\n",
    "\n",
    "    # Read yaml file\n",
    "    with open(config_file, 'r') as stream:\n",
    "        try:\n",
    "            config = yaml.load(stream)\n",
    "        except yaml.YAMLError as exc:\n",
    "            print(exc)\n",
    "    \n",
    "    return config"
   ]
  },
  {
   "cell_type": "markdown",
   "metadata": {},
   "source": [
    "## Lendo arquivos de configuração e definições de variáveis"
   ]
  },
  {
   "cell_type": "code",
   "execution_count": 11,
   "metadata": {
    "collapsed": false
   },
   "outputs": [],
   "source": [
    "config = read_config_file(\"config.yaml\")\n",
    "\n",
    "# Read variable in config file\n",
    "vulcans_variants = len(config[\"vulcans_semi_axis\"])\n",
    "vulcans_clones = config[\"vulcans_clones\"]\n",
    "\n",
    "# Mass of the Sum [kg]\n",
    "mass_sun_kg = config[\"mass_sun_kg\"]\n",
    "\n",
    "# Mass of the Sun, considering G = 1\n",
    "mass_sun_grav = config[\"mass_sun_grav\"]\n",
    "\n",
    "# Conic section is ellipse # Constant used in oe2pv function\n",
    "ialpha = config[\"ialpha\"]\n",
    "\n",
    "# Gravitational factor of the Sun\n",
    "gm = config[\"gm\"]\n",
    "\n",
    "# Semi-axis\n",
    "a_variants = config[\"a_variants\"]"
   ]
  },
  {
   "cell_type": "markdown",
   "metadata": {},
   "source": [
    "## Criando o dataframe"
   ]
  },
  {
   "cell_type": "code",
   "execution_count": 12,
   "metadata": {
    "collapsed": true
   },
   "outputs": [],
   "source": [
    "# ### Create dataframe\n",
    "\n",
    "# Initial dataframe\n",
    "vulcan = pd.DataFrame(config[\"vulcan\"], index=[0])\n",
    "\n",
    "# Create gravitational mass\n",
    "vulcan['mass_grav'] = vulcan['mass'] * mass_sun_grav / mass_sun_kg\n",
    "\n",
    "# Create gmpl column\n",
    "vulcan['gmpl'] = vulcan['mass_grav'] + gm\n",
    "\n",
    "# Replicate initial values in each simulate\n",
    "vulcan = vulcan.append([vulcan] * (vulcans_variants *\\\n",
    "                            vulcans_clones - 1), ignore_index=True)\n",
    "\n",
    "# Create semi-axis\n",
    "vulcan['a'] = np.repeat(a_variants, vulcans_clones)\n",
    "\n",
    "# Create period\n",
    "vulcan[\"period\"] = np.sqrt(((4 * np.pi**2) / mass_sun_grav)* vulcan['a'] **3)\n",
    "\n",
    "# Create random eccentricity\n",
    "# Usin numpy.random.ranf. For range = (a,b): (b - a) * random_sample() + a\n",
    "vulcan['e'] = 0.01 * np.random.ranf((vulcans_variants * vulcans_clones,))\n",
    "\n",
    "# Create random inclination\n",
    "# Usin numpy.random.ranf. For range = (a,b): (b - a) * random_sample() + a\n",
    "vulcan['inc'] = np.deg2rad(0.01 * np.random.ranf((vulcans_variants * vulcans_clones,)))\n",
    "\n",
    "\n",
    "# Create capom angle\n",
    "vulcan['capom'] = np.deg2rad(np.random.randint(0, 361, vulcans_variants * vulcans_clones))\n",
    "\n",
    "# Create omega angle\n",
    "vulcan['omega'] = np.deg2rad(np.random.randint(0, 361, vulcans_variants * vulcans_clones))\n",
    "\n",
    "# Create M angle - Mean Anomaly\n",
    "vulcan['capm'] = np.deg2rad(np.random.randint(0, 361, vulcans_variants * vulcans_clones))\n",
    "\n",
    "# Create postions and velocities \n",
    "\n",
    "x, y, z, vx, vy, vz = orbel_el2xv_vec(vulcan[\"gmpl\"], ialpha,vulcan[\"a\"],\\\n",
    "                                      vulcan[\"e\"],vulcan[\"inc\"],\\\n",
    "                                      vulcan[\"capom\"], vulcan[\"omega\"],\\\n",
    "                                      vulcan[\"capm\"])\n",
    "\n",
    "for j in ['x', 'y', 'z', 'vx', 'vy', 'vz']:\n",
    "        exec(\"vulcan['{0}'] = {0} \".format(j))"
   ]
  },
  {
   "cell_type": "markdown",
   "metadata": {},
   "source": [
    "## Salvando o dataframe"
   ]
  },
  {
   "cell_type": "code",
   "execution_count": 13,
   "metadata": {
    "collapsed": true
   },
   "outputs": [],
   "source": [
    "# Save vulcan dataframe\n",
    "vulcan.to_csv(\"vulcan.csv\", index=False)"
   ]
  },
  {
   "cell_type": "markdown",
   "metadata": {},
   "source": [
    "## Verificando o dataframe criado\n",
    "Neste caso, é necessário ver a interface entre a mudança de semieixo maior"
   ]
  },
  {
   "cell_type": "code",
   "execution_count": 14,
   "metadata": {
    "collapsed": false
   },
   "outputs": [
    {
     "name": "stdout",
     "output_type": "stream",
     "text": [
      "            mass     radio     mass_grav      gmpl     a     period         e  \\\n",
      "5   5.972300e+24  6378.137  8.887539e-10  0.000296  0.05   4.083684  0.006083   \n",
      "6   5.972300e+24  6378.137  8.887539e-10  0.000296  0.05   4.083684  0.004413   \n",
      "7   5.972300e+24  6378.137  8.887539e-10  0.000296  0.05   4.083684  0.004092   \n",
      "8   5.972300e+24  6378.137  8.887539e-10  0.000296  0.05   4.083684  0.001638   \n",
      "9   5.972300e+24  6378.137  8.887539e-10  0.000296  0.05   4.083684  0.000537   \n",
      "10  5.972300e+24  6378.137  8.887539e-10  0.000296  0.10  11.550403  0.008694   \n",
      "11  5.972300e+24  6378.137  8.887539e-10  0.000296  0.10  11.550403  0.002526   \n",
      "12  5.972300e+24  6378.137  8.887539e-10  0.000296  0.10  11.550403  0.005805   \n",
      "13  5.972300e+24  6378.137  8.887539e-10  0.000296  0.10  11.550403  0.002429   \n",
      "14  5.972300e+24  6378.137  8.887539e-10  0.000296  0.10  11.550403  0.005104   \n",
      "\n",
      "         inc     capom     omega      capm         x         y             z  \\\n",
      "5   0.000105  4.520403  1.012291  0.314159  0.045133 -0.020838  5.089972e-06   \n",
      "6   0.000077  2.548181  0.471239  4.066617  0.035078  0.035817 -3.790658e-06   \n",
      "7   0.000079  1.518436  3.159046  5.270894 -0.043380 -0.024645  3.301578e-06   \n",
      "8   0.000085  2.757620  1.186824  1.151917  0.018857 -0.046272  3.034821e-06   \n",
      "9   0.000080  4.572763  6.021386  0.034907 -0.017907 -0.046655 -8.976439e-07   \n",
      "10  0.000126  4.468043  5.340708  4.729842 -0.037464  0.092709 -7.401188e-06   \n",
      "11  0.000062  5.794493  5.881760  2.583087 -0.012479  0.099434  5.112736e-06   \n",
      "12  0.000081  3.473205  4.799655  1.658063 -0.086943 -0.049515  1.493672e-06   \n",
      "13  0.000149  2.687807  1.256637  4.031711 -0.011831  0.099452 -1.258445e-05   \n",
      "14  0.000080  2.844887  2.792527  2.617994 -0.039715  0.092258 -6.109196e-06   \n",
      "\n",
      "          vx        vy        vz  \n",
      "5   0.032568  0.070189  0.000002  \n",
      "6  -0.055004  0.053491 -0.000001  \n",
      "7   0.038316 -0.066901 -0.000003  \n",
      "8   0.071333  0.028945 -0.000005  \n",
      "9   0.071860 -0.027583  0.000006  \n",
      "10 -0.050260 -0.020820 -0.000006  \n",
      "11 -0.053868 -0.006687 -0.000002  \n",
      "12  0.026633 -0.047399  0.000004  \n",
      "13 -0.053922 -0.006518  0.000004  \n",
      "14 -0.049799 -0.021287  0.000003  \n"
     ]
    }
   ],
   "source": [
    "read_vulcano = pd.read_csv(\"vulcan.csv\")\n",
    "print(read_vulcano[5:15])"
   ]
  }
 ],
 "metadata": {
  "kernelspec": {
   "display_name": "Python 3",
   "language": "python",
   "name": "python3"
  },
  "language_info": {
   "codemirror_mode": {
    "name": "ipython",
    "version": 3
   },
   "file_extension": ".py",
   "mimetype": "text/x-python",
   "name": "python",
   "nbconvert_exporter": "python",
   "pygments_lexer": "ipython3",
   "version": "3.6.0"
  }
 },
 "nbformat": 4,
 "nbformat_minor": 2
}
