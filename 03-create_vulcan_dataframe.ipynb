{
 "cells": [
  {
   "cell_type": "markdown",
   "metadata": {},
   "source": [
    "# Simulação de um Sistema Solar com um Vulcano"
   ]
  },
  {
   "cell_type": "markdown",
   "metadata": {},
   "source": [
    "## Criação de um dataframe para o Vulcano"
   ]
  },
  {
   "cell_type": "code",
   "execution_count": 15,
   "metadata": {
    "collapsed": true
   },
   "outputs": [],
   "source": [
    "# Import modules\n",
    "import os\n",
    "import yaml\n",
    "import pandas as pd\n",
    "import numpy as np\n",
    "from oe2pv import orbel_el2xv"
   ]
  },
  {
   "cell_type": "markdown",
   "metadata": {},
   "source": [
    "## Vetorizando a função de transformação de elementos orbitais"
   ]
  },
  {
   "cell_type": "code",
   "execution_count": 16,
   "metadata": {
    "collapsed": true
   },
   "outputs": [],
   "source": [
    "# Transforms orbel_el2xv in vectorized function\n",
    "orbel_el2xv_vec = np.vectorize(orbel_el2xv)"
   ]
  },
  {
   "cell_type": "markdown",
   "metadata": {},
   "source": [
    "## Definindo funções"
   ]
  },
  {
   "cell_type": "code",
   "execution_count": 17,
   "metadata": {
    "collapsed": true
   },
   "outputs": [],
   "source": [
    "def read_config_file(config_file):\n",
    "    \"\"\"\n",
    "    Read config file and go to home directory\n",
    "    \"\"\"\n",
    "    home_dir = os.path.dirname(os.path.abspath(config_file))\n",
    "    os.chdir(home_dir)\n",
    "\n",
    "    # Read yaml file\n",
    "    with open(config_file, 'r') as stream:\n",
    "        try:\n",
    "            config = yaml.load(stream)\n",
    "        except yaml.YAMLError as exc:\n",
    "            print(exc)\n",
    "    \n",
    "    return config"
   ]
  },
  {
   "cell_type": "markdown",
   "metadata": {},
   "source": [
    "## Lendo arquivos de configuração e definições de variáveis"
   ]
  },
  {
   "cell_type": "code",
   "execution_count": 18,
   "metadata": {
    "collapsed": false
   },
   "outputs": [],
   "source": [
    "config = read_config_file(\"config.yaml\")\n",
    "\n",
    "# Read variable in config file\n",
    "vulcans_variants = len(config[\"vulcans_semi_axis\"])\n",
    "vulcans_clones = config[\"vulcans_clones\"]\n",
    "\n",
    "# Mass of the Sum [kg]\n",
    "mass_sun_kg = config[\"mass_sun_kg\"]\n",
    "\n",
    "# Mass of the Sun, considering G = 1\n",
    "mass_sun_grav = config[\"mass_sun_grav\"]\n",
    "\n",
    "# Conic section is ellipse # Constant used in oe2pv function\n",
    "ialpha = config[\"ialpha\"]\n",
    "\n",
    "# Gravitational factor of the Sun\n",
    "gm = config[\"gm\"]\n",
    "\n",
    "# Semi-axis\n",
    "a_variants = config[\"a_variants\"]"
   ]
  },
  {
   "cell_type": "markdown",
   "metadata": {},
   "source": [
    "## Criando o dataframe"
   ]
  },
  {
   "cell_type": "code",
   "execution_count": 19,
   "metadata": {
    "collapsed": true
   },
   "outputs": [],
   "source": [
    "# ### Create dataframe\n",
    "\n",
    "# Initial dataframe\n",
    "vulcan = pd.DataFrame(config[\"vulcan\"], index=[0])\n",
    "\n",
    "# Create gravitational mass\n",
    "vulcan['mass_grav'] = vulcan['mass'] * mass_sun_grav / mass_sun_kg\n",
    "\n",
    "# Create gmpl column\n",
    "vulcan['gmpl'] = vulcan['mass_grav'] + gm\n",
    "\n",
    "# Replicate initial values in each simulate\n",
    "vulcan = vulcan.append([vulcan] * (vulcans_variants *\\\n",
    "                            vulcans_clones - 1), ignore_index=True)\n",
    "\n",
    "# Create semi-axis\n",
    "vulcan['a'] = np.repeat(a_variants, vulcans_clones)\n",
    "\n",
    "# Create period\n",
    "vulcan[\"period\"] = np.sqrt(((4 * np.pi**2) / mass_sun_grav)* vulcan['a'] **3)\n",
    "\n",
    "# Create random eccentricity\n",
    "# Usin numpy.random.ranf. For range = (a,b): (b - a) * random_sample() + a\n",
    "vulcan['e'] = 0.01 * np.random.ranf((vulcans_variants * vulcans_clones,))\n",
    "\n",
    "# Create random inclination\n",
    "# Usin numpy.random.ranf. For range = (a,b): (b - a) * random_sample() + a\n",
    "vulcan['inc'] = np.deg2rad(0.01 * np.random.ranf((vulcans_variants * vulcans_clones,)))\n",
    "\n",
    "\n",
    "# Create capom angle\n",
    "vulcan['capom'] = np.deg2rad(np.random.randint(0, 361, vulcans_variants * vulcans_clones))\n",
    "\n",
    "# Create omega angle\n",
    "vulcan['omega'] = np.deg2rad(np.random.randint(0, 361, vulcans_variants * vulcans_clones))\n",
    "\n",
    "# Create M angle - Mean Anomaly\n",
    "vulcan['capm'] = np.deg2rad(np.random.randint(0, 361, vulcans_variants * vulcans_clones))\n",
    "\n",
    "# Create postions and velocities \n",
    "\n",
    "x, y, z, vx, vy, vz = orbel_el2xv_vec(vulcan[\"gmpl\"], ialpha,vulcan[\"a\"],\\\n",
    "                                      vulcan[\"e\"],vulcan[\"inc\"],\\\n",
    "                                      vulcan[\"capom\"], vulcan[\"omega\"],\\\n",
    "                                      vulcan[\"capm\"])\n",
    "\n",
    "for j in ['x', 'y', 'z', 'vx', 'vy', 'vz']:\n",
    "        exec(\"vulcan['{0}'] = {0} \".format(j))"
   ]
  },
  {
   "cell_type": "markdown",
   "metadata": {},
   "source": [
    "## Salvando o dataframe"
   ]
  },
  {
   "cell_type": "code",
   "execution_count": 20,
   "metadata": {
    "collapsed": true
   },
   "outputs": [],
   "source": [
    "# Save vulcan dataframe\n",
    "vulcan.to_csv(\"vulcan.csv\", index=False)"
   ]
  },
  {
   "cell_type": "markdown",
   "metadata": {},
   "source": [
    "## Verificando o dataframe criado\n",
    "Neste caso, é necessário ver a interface entre a mudança de semieixo maior"
   ]
  },
  {
   "cell_type": "code",
   "execution_count": 21,
   "metadata": {
    "collapsed": false
   },
   "outputs": [
    {
     "name": "stdout",
     "output_type": "stream",
     "text": [
      "            mass     radio     mass_grav      gmpl     a     period         e  \\\n",
      "5   5.972300e+24  6378.137  8.887539e-10  0.000296  0.05   4.083684  0.007897   \n",
      "6   5.972300e+24  6378.137  8.887539e-10  0.000296  0.05   4.083684  0.004402   \n",
      "7   5.972300e+24  6378.137  8.887539e-10  0.000296  0.05   4.083684  0.000001   \n",
      "8   5.972300e+24  6378.137  8.887539e-10  0.000296  0.05   4.083684  0.006178   \n",
      "9   5.972300e+24  6378.137  8.887539e-10  0.000296  0.05   4.083684  0.008736   \n",
      "10  5.972300e+24  6378.137  8.887539e-10  0.000296  0.10  11.550403  0.008999   \n",
      "11  5.972300e+24  6378.137  8.887539e-10  0.000296  0.10  11.550403  0.003022   \n",
      "12  5.972300e+24  6378.137  8.887539e-10  0.000296  0.10  11.550403  0.009409   \n",
      "13  5.972300e+24  6378.137  8.887539e-10  0.000296  0.10  11.550403  0.001119   \n",
      "14  5.972300e+24  6378.137  8.887539e-10  0.000296  0.10  11.550403  0.005849   \n",
      "\n",
      "         inc     capom     omega      capm         x         y         z  \\\n",
      "5   0.000044  1.954769  6.213372  4.485496  0.049962  0.003599 -0.000002   \n",
      "6   0.000127  4.485496  4.660029  3.508112  0.050028  0.004219  0.000006   \n",
      "7   0.000140  1.640609  3.089233  0.453786  0.022700 -0.044550 -0.000003   \n",
      "8   0.000140  0.837758  6.003933  5.445427  0.047737 -0.014166 -0.000006   \n",
      "9   0.000099  3.385939  5.585054  2.967060  0.040888 -0.029520  0.000004   \n",
      "10  0.000135  2.949606  3.996804  5.864306  0.096408  0.023281 -0.000006   \n",
      "11  0.000017  5.305801  1.535890  6.283185  0.084549  0.052832  0.000002   \n",
      "12  0.000061  0.383972  3.054326  0.733038 -0.050060 -0.085764 -0.000004   \n",
      "13  0.000076  0.994838  1.291544  5.689773 -0.012051  0.099178  0.000005   \n",
      "14  0.000121  4.729842  5.969026  3.368485  0.007278  0.100306  0.000001   \n",
      "\n",
      "          vx        vy            vz  \n",
      "5  -0.006105  0.076546 -1.015259e-06  \n",
      "6  -0.006558  0.076334 -2.992847e-06  \n",
      "7   0.068546  0.034926 -9.917345e-06  \n",
      "8   0.021635  0.074156  4.699950e-06  \n",
      "9   0.044739  0.061772 -4.841323e-06  \n",
      "10 -0.013071  0.053266 -6.736782e-06  \n",
      "11 -0.028914  0.046272  3.294360e-08  \n",
      "12  0.047132 -0.027913 -2.659603e-06  \n",
      "13 -0.054047 -0.006602  3.164777e-06  \n",
      "14 -0.053952  0.003843 -6.523819e-06  \n"
     ]
    }
   ],
   "source": [
    "read_vulcano = pd.read_csv(\"vulcan.csv\")\n",
    "print(read_vulcano[5:15])"
   ]
  }
 ],
 "metadata": {
  "kernelspec": {
   "display_name": "Python 3",
   "language": "python",
   "name": "python3"
  },
  "language_info": {
   "codemirror_mode": {
    "name": "ipython",
    "version": 3
   },
   "file_extension": ".py",
   "mimetype": "text/x-python",
   "name": "python",
   "nbconvert_exporter": "python",
   "pygments_lexer": "ipython3",
   "version": "3.6.0"
  }
 },
 "nbformat": 4,
 "nbformat_minor": 2
}
