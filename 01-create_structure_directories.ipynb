{
 "cells": [
  {
   "cell_type": "markdown",
   "metadata": {},
   "source": [
    "# Simulação de um Sistema Solar com um Vulcano"
   ]
  },
  {
   "cell_type": "markdown",
   "metadata": {},
   "source": [
    "## Criação de estrutura de diretórios"
   ]
  },
  {
   "cell_type": "code",
   "execution_count": 11,
   "metadata": {
    "collapsed": true
   },
   "outputs": [],
   "source": [
    "# Import modules\n",
    "import os\n",
    "import sys\n",
    "import yaml\n",
    "import shutil"
   ]
  },
  {
   "cell_type": "markdown",
   "metadata": {},
   "source": [
    "## Definindo as funçãos"
   ]
  },
  {
   "cell_type": "code",
   "execution_count": 12,
   "metadata": {
    "collapsed": true
   },
   "outputs": [],
   "source": [
    "def read_config_file(config_file):\n",
    "    \"\"\"\n",
    "    Read config file and go to home directory\n",
    "    \"\"\"\n",
    "    home_dir = os.path.dirname(os.path.abspath(config_file))\n",
    "    os.chdir(home_dir)\n",
    "\n",
    "    # Read yaml file\n",
    "    with open(config_file, 'r') as stream:\n",
    "        try:\n",
    "            config = yaml.load(stream)\n",
    "        except yaml.YAMLError as exc:\n",
    "            print(exc)\n",
    "    \n",
    "    return config"
   ]
  },
  {
   "cell_type": "code",
   "execution_count": 13,
   "metadata": {
    "collapsed": true
   },
   "outputs": [],
   "source": [
    "def create_dir_simulation(simulation_name,\\\n",
    "                          vulcans_variant_suffix,\\\n",
    "                          vulcans_clones):\n",
    "    # Create dir simulation\n",
    "    if os.path.isdir(simulation_name):\n",
    "        shutil.rmtree(simulation_name)\n",
    "        os.makedirs(simulation_name)\n",
    "        os.chdir(simulation_name)\n",
    "    else:\n",
    "        os.mkdir(simulation_name) \n",
    "        os.chdir(simulation_name)\n",
    "\n",
    "    for i in vulcans_variant_suffix:\n",
    "        for j in range(1, vulcans_clones + 1):\n",
    "            os.mkdir(simulation_name + \"-\" + \"{0}\".format(i) + \"-\" + \"{:03d}\".format(j))\n",
    "            \n",
    "    os.chdir(\"../\")"
   ]
  },
  {
   "cell_type": "markdown",
   "metadata": {},
   "source": [
    "## Criando estrutura de diretórios"
   ]
  },
  {
   "cell_type": "code",
   "execution_count": 14,
   "metadata": {
    "collapsed": true
   },
   "outputs": [],
   "source": [
    "# Config file names and directory names\n",
    "config = read_config_file(\"config.yaml\")\n",
    "create_dir_simulation(config[\"simulation_name\"],\\\n",
    "                      config[\"vulcans_semi_axis\"],\\\n",
    "                      config[\"vulcans_clones\"])"
   ]
  },
  {
   "cell_type": "markdown",
   "metadata": {},
   "source": [
    "## Verificando estrutura criada"
   ]
  },
  {
   "cell_type": "code",
   "execution_count": 16,
   "metadata": {
    "collapsed": false
   },
   "outputs": [
    {
     "name": "stdout",
     "output_type": "stream",
     "text": [
      "vulcan_mvs-A-001  vulcan_mvs-C-006  vulcan_mvs-F-001  vulcan_mvs-H-006\r\n",
      "vulcan_mvs-A-002  vulcan_mvs-C-007  vulcan_mvs-F-002  vulcan_mvs-H-007\r\n",
      "vulcan_mvs-A-003  vulcan_mvs-C-008  vulcan_mvs-F-003  vulcan_mvs-H-008\r\n",
      "vulcan_mvs-A-004  vulcan_mvs-C-009  vulcan_mvs-F-004  vulcan_mvs-H-009\r\n",
      "vulcan_mvs-A-005  vulcan_mvs-C-010  vulcan_mvs-F-005  vulcan_mvs-H-010\r\n",
      "vulcan_mvs-A-006  vulcan_mvs-D-001  vulcan_mvs-F-006  vulcan_mvs-I-001\r\n",
      "vulcan_mvs-A-007  vulcan_mvs-D-002  vulcan_mvs-F-007  vulcan_mvs-I-002\r\n",
      "vulcan_mvs-A-008  vulcan_mvs-D-003  vulcan_mvs-F-008  vulcan_mvs-I-003\r\n",
      "vulcan_mvs-A-009  vulcan_mvs-D-004  vulcan_mvs-F-009  vulcan_mvs-I-004\r\n",
      "vulcan_mvs-A-010  vulcan_mvs-D-005  vulcan_mvs-F-010  vulcan_mvs-I-005\r\n",
      "vulcan_mvs-B-001  vulcan_mvs-D-006  vulcan_mvs-G-001  vulcan_mvs-I-006\r\n",
      "vulcan_mvs-B-002  vulcan_mvs-D-007  vulcan_mvs-G-002  vulcan_mvs-I-007\r\n",
      "vulcan_mvs-B-003  vulcan_mvs-D-008  vulcan_mvs-G-003  vulcan_mvs-I-008\r\n",
      "vulcan_mvs-B-004  vulcan_mvs-D-009  vulcan_mvs-G-004  vulcan_mvs-I-009\r\n",
      "vulcan_mvs-B-005  vulcan_mvs-D-010  vulcan_mvs-G-005  vulcan_mvs-I-010\r\n",
      "vulcan_mvs-B-006  vulcan_mvs-E-001  vulcan_mvs-G-006  vulcan_mvs-J-001\r\n",
      "vulcan_mvs-B-007  vulcan_mvs-E-002  vulcan_mvs-G-007  vulcan_mvs-J-002\r\n",
      "vulcan_mvs-B-008  vulcan_mvs-E-003  vulcan_mvs-G-008  vulcan_mvs-J-003\r\n",
      "vulcan_mvs-B-009  vulcan_mvs-E-004  vulcan_mvs-G-009  vulcan_mvs-J-004\r\n",
      "vulcan_mvs-B-010  vulcan_mvs-E-005  vulcan_mvs-G-010  vulcan_mvs-J-005\r\n",
      "vulcan_mvs-C-001  vulcan_mvs-E-006  vulcan_mvs-H-001  vulcan_mvs-J-006\r\n",
      "vulcan_mvs-C-002  vulcan_mvs-E-007  vulcan_mvs-H-002  vulcan_mvs-J-007\r\n",
      "vulcan_mvs-C-003  vulcan_mvs-E-008  vulcan_mvs-H-003  vulcan_mvs-J-008\r\n",
      "vulcan_mvs-C-004  vulcan_mvs-E-009  vulcan_mvs-H-004  vulcan_mvs-J-009\r\n",
      "vulcan_mvs-C-005  vulcan_mvs-E-010  vulcan_mvs-H-005  vulcan_mvs-J-010\r\n"
     ]
    }
   ],
   "source": [
    "!ls vulcan_mvs/"
   ]
  },
  {
   "cell_type": "code",
   "execution_count": null,
   "metadata": {
    "collapsed": true
   },
   "outputs": [],
   "source": []
  }
 ],
 "metadata": {
  "kernelspec": {
   "display_name": "Python 3",
   "language": "python",
   "name": "python3"
  },
  "language_info": {
   "codemirror_mode": {
    "name": "ipython",
    "version": 3
   },
   "file_extension": ".py",
   "mimetype": "text/x-python",
   "name": "python",
   "nbconvert_exporter": "python",
   "pygments_lexer": "ipython3",
   "version": "3.6.0"
  }
 },
 "nbformat": 4,
 "nbformat_minor": 2
}
