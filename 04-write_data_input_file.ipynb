{
 "cells": [
  {
   "cell_type": "markdown",
   "metadata": {},
   "source": [
    "# Simulação de um Sistema Solar com um Vulcano"
   ]
  },
  {
   "cell_type": "markdown",
   "metadata": {},
   "source": [
    "## Criando arquivos de entrada para simulação"
   ]
  },
  {
   "cell_type": "code",
   "execution_count": 35,
   "metadata": {
    "collapsed": true
   },
   "outputs": [],
   "source": [
    "# Import modules\n",
    "import os\n",
    "import sys\n",
    "import yaml\n",
    "import shutil\n",
    "from glob import glob\n",
    "import pandas as pd"
   ]
  },
  {
   "cell_type": "markdown",
   "metadata": {},
   "source": [
    "## Definindo funções"
   ]
  },
  {
   "cell_type": "code",
   "execution_count": 36,
   "metadata": {
    "collapsed": true
   },
   "outputs": [],
   "source": [
    "def read_config_file(config_file):\n",
    "    \"\"\"\n",
    "    Read config file and go to home directory\n",
    "    \"\"\"\n",
    "    home_dir = os.path.dirname(os.path.abspath(config_file))\n",
    "    os.chdir(home_dir)\n",
    "\n",
    "    # Read yaml file\n",
    "    with open(config_file, 'r') as stream:\n",
    "        try:\n",
    "            config = yaml.load(stream)\n",
    "        except yaml.YAMLError as exc:\n",
    "            print(exc)\n",
    "    \n",
    "    return config"
   ]
  },
  {
   "cell_type": "code",
   "execution_count": 37,
   "metadata": {
    "collapsed": true
   },
   "outputs": [],
   "source": [
    "def write_pl(pl):\n",
    "    \"\"\"\n",
    "    Write input files\n",
    "    \"\"\"\n",
    "    for i, j in enumerate(glob(\"*\")):\n",
    "        os.chdir(j)\n",
    "        with open(\"pl.in\", \"a\") as f:\n",
    "            f.write(str(pl.ix[i][\"mass_grav\"]) + \"\\n\")\n",
    "            f.write(str(pl.ix[i][\"x\"]) + \" \" + str(pl.ix[i][\"y\"]) + \" \" + str(pl.ix[i][\"z\"]) + \"\\n\")\n",
    "            f.write(str(pl.ix[i][\"vx\"]) + \" \" + str(pl.ix[i][\"vy\"]) + \" \" + str(pl.ix[i][\"vz\"]) + \"\\n\")\n",
    "        os.chdir(\"../\")"
   ]
  },
  {
   "cell_type": "markdown",
   "metadata": {},
   "source": [
    "## Leitura do arquivo de configuração e definição de variáveis"
   ]
  },
  {
   "cell_type": "code",
   "execution_count": 38,
   "metadata": {
    "collapsed": true
   },
   "outputs": [],
   "source": [
    "config_file = \"config.yaml\"\n",
    "home_dir = os.path.dirname(os.path.abspath(config_file))\n",
    "os.chdir(home_dir)\n",
    "\n",
    "config = read_config_file(\"config.yaml\")\n",
    "simulation_name = config[\"simulation_name\"]\n",
    "planets_name = config['planets_names']\n",
    "vulcan_variants_suffix = config[\"vulcans_semi_axis\"]\n",
    "vulcan_variants = len(config[\"vulcans_semi_axis\"])\n",
    "vulcan_clones = config[\"vulcans_clones\"]\n",
    "subroutine_swift = config[\"subroutine_swift\"]"
   ]
  },
  {
   "cell_type": "markdown",
   "metadata": {},
   "source": [
    "## Abrindo os dataframes "
   ]
  },
  {
   "cell_type": "markdown",
   "metadata": {},
   "source": [
    "### Vulcan"
   ]
  },
  {
   "cell_type": "code",
   "execution_count": 39,
   "metadata": {
    "collapsed": true
   },
   "outputs": [],
   "source": [
    "### Open planet's data\n",
    "# vulcan\n",
    "vulcan = pd.read_csv(\"vulcan.csv\")"
   ]
  },
  {
   "cell_type": "markdown",
   "metadata": {},
   "source": [
    "### Planetas"
   ]
  },
  {
   "cell_type": "code",
   "execution_count": 40,
   "metadata": {
    "collapsed": true
   },
   "outputs": [],
   "source": [
    "# Other planets\n",
    "for i in planets_name:\n",
    "    exec(\"{0} = pd.read_csv('{0}' + '.csv')\".format(i))"
   ]
  },
  {
   "cell_type": "markdown",
   "metadata": {},
   "source": [
    "## Criando os dados para inserir nos arquivos de configuração"
   ]
  },
  {
   "cell_type": "markdown",
   "metadata": {},
   "source": [
    "### Sol"
   ]
  },
  {
   "cell_type": "code",
   "execution_count": 41,
   "metadata": {
    "collapsed": true
   },
   "outputs": [],
   "source": [
    "# ## Sun's data\n",
    "sun_data = \"\"\"10\n",
    "2.959139768995959E-04\n",
    "0.0 0.0 0.0\n",
    "0.0 0.0 0.0\n",
    "\"\"\"\n",
    "os.chdir(simulation_name)\n",
    "\n",
    "for i, j in enumerate(glob(\"*\")):\n",
    "    os.chdir(j)\n",
    "    with open(\"pl.in\", \"a\") as f:\n",
    "        f.write(sun_data)\n",
    "    os.chdir(\"../\")\n",
    "\n",
    "os.chdir(home_dir)"
   ]
  },
  {
   "cell_type": "markdown",
   "metadata": {},
   "source": [
    "### Vulcan"
   ]
  },
  {
   "cell_type": "code",
   "execution_count": 42,
   "metadata": {
    "collapsed": true
   },
   "outputs": [],
   "source": [
    "# vulcan\n",
    "os.chdir(simulation_name)\n",
    "\n",
    "write_pl(vulcan)\n",
    "\n",
    "os.chdir(home_dir)"
   ]
  },
  {
   "cell_type": "markdown",
   "metadata": {},
   "source": [
    "### Outros planetas"
   ]
  },
  {
   "cell_type": "code",
   "execution_count": 43,
   "metadata": {
    "collapsed": true
   },
   "outputs": [],
   "source": [
    "# Others planets\n",
    "os.chdir(simulation_name)\n",
    "# write input files\n",
    "\n",
    "for pl in planets_name:\n",
    "    exec(\"write_pl({0})\".format(pl))\n",
    "\n",
    "os.chdir(home_dir)"
   ]
  },
  {
   "cell_type": "markdown",
   "metadata": {},
   "source": [
    "### Partícula de testes"
   ]
  },
  {
   "cell_type": "code",
   "execution_count": 44,
   "metadata": {
    "collapsed": true
   },
   "outputs": [],
   "source": [
    "# ## Test particle\n",
    "# There is no test particle\n",
    "tp = \"\"\"\n",
    "0\n",
    "\"\"\"\n",
    "\n",
    "os.chdir(simulation_name)\n",
    "\n",
    "for i, j in enumerate(glob(\"*\")):\n",
    "    os.chdir(j)\n",
    "    with open(\"tp.in\", \"a\") as f:\n",
    "        f.write(tp)\n",
    "    os.chdir(\"../\")\n",
    "\n",
    "os.chdir(home_dir)"
   ]
  },
  {
   "cell_type": "markdown",
   "metadata": {},
   "source": [
    "### Parâmetros da simulação\n",
    "param.in"
   ]
  },
  {
   "cell_type": "code",
   "execution_count": 45,
   "metadata": {
    "collapsed": true
   },
   "outputs": [],
   "source": [
    "# ## Parameters of the simulation\n",
    "# \n",
    "# Write param.in\n",
    "initial_time= config[\"initial_time\"]\n",
    "time_stop= config[\"time_stop\"]\n",
    "timestep= config[\"timestep\"]\n",
    "dtout= config[\"dtout\"]\n",
    "dtdump= config[\"dtdump\"]\n",
    "L1= config[\"L1\"]\n",
    "L2= config[\"L2\"]\n",
    "L3= config[\"L3\"]\n",
    "L4= config[\"L4\"]\n",
    "L5= config[\"L5\"]\n",
    "L6= config[\"L6\"]\n",
    "rmin= config[\"rmin\"]\n",
    "rmax= config[\"rmax\"]\n",
    "rmaxu= config[\"rmaxu\"]\n",
    "qmin= config[\"qmin\"]\n",
    "lclose= config[\"lclose\"]\n",
    "binary_outputfile= config[\"binary_outputfile\"]\n",
    "status_flag_for_open_statements= config[\"status_flag_for_open_statements\"]\n",
    "\n",
    "string = \"\"\"{0} {1} {2}\n",
    "{3} {4}\n",
    "{5} {6} {7} {8} {9} {10}\n",
    "{11} {12} {13} {14} {15}\n",
    "{16}\n",
    "{17}\"\"\".format(initial_time, time_stop, timestep, dtout, dtdump, \\\n",
    "                        L1, L2, L3, L4, L5, L6, rmin, rmax, rmaxu, qmin, \\\n",
    "                        lclose, binary_outputfile, status_flag_for_open_statements)\n",
    "\n",
    "os.chdir(simulation_name)\n",
    "\n",
    "for i, j in enumerate(glob(\"*\")):\n",
    "    os.chdir(j)\n",
    "    with open(\"param.in\", \"a\") as f:\n",
    "        f.write(string)\n",
    "    os.chdir(\"../\")\n",
    "\n",
    "os.chdir(home_dir)"
   ]
  },
  {
   "cell_type": "markdown",
   "metadata": {},
   "source": [
    "### Argumento para a subrotina do SWIFT\n",
    "swift_mvs.in"
   ]
  },
  {
   "cell_type": "code",
   "execution_count": 46,
   "metadata": {
    "collapsed": true
   },
   "outputs": [],
   "source": [
    "# ## arguments for Swift routine \n",
    "os.chdir(simulation_name)\n",
    "\n",
    "for i, j in enumerate(glob(\"*\")):\n",
    "    os.chdir(j)\n",
    "    with open(subroutine_swift, \"a\") as f:\n",
    "        f.write(\"param.in\\n\")\n",
    "        f.write(\"pl.in\\n\")\n",
    "        f.write(\"tp.in\")\n",
    "    os.chdir(\"../\")\n",
    "\n",
    "os.chdir(home_dir)"
   ]
  },
  {
   "cell_type": "markdown",
   "metadata": {},
   "source": [
    "## Verificando dados"
   ]
  },
  {
   "cell_type": "markdown",
   "metadata": {},
   "source": [
    "### Dados no diretório de simulação"
   ]
  },
  {
   "cell_type": "code",
   "execution_count": 47,
   "metadata": {
    "collapsed": false
   },
   "outputs": [
    {
     "data": {
      "text/plain": [
       "['vulcan_mvs/vulcan_mvs-A-001/pl.in',\n",
       " 'vulcan_mvs/vulcan_mvs-A-001/tp.in',\n",
       " 'vulcan_mvs/vulcan_mvs-A-001/param.in',\n",
       " 'vulcan_mvs/vulcan_mvs-A-001/swift_mvs.in']"
      ]
     },
     "execution_count": 47,
     "metadata": {},
     "output_type": "execute_result"
    }
   ],
   "source": [
    "glob(simulation_name + \"/\" + simulation_name + \"-A-001/*\")"
   ]
  },
  {
   "cell_type": "markdown",
   "metadata": {},
   "source": [
    "### pl.in"
   ]
  },
  {
   "cell_type": "code",
   "execution_count": 48,
   "metadata": {
    "collapsed": false
   },
   "outputs": [
    {
     "name": "stdout",
     "output_type": "stream",
     "text": [
      "10\n",
      "2.959139768995959E-04\n",
      "0.0 0.0 0.0\n",
      "0.0 0.0 0.0\n",
      "8.88753856795e-10\n",
      "0.0453384309365 -0.0211649495845 2.24111770861e-06\n",
      "0.031894690683 0.0699477087913 -4.5207854192e-07\n",
      "8.88753856795e-10\n",
      "-0.0356409954462 0.386108939237 -1.14420156276e-05\n",
      "-0.0274911978704 -0.00247137252562 -2.98458747538e-06\n",
      "7.24345628644e-10\n",
      "-0.0528082359638 -0.721589770597 6.44037429562e-05\n",
      "0.020169394448 -0.00144321508841 -9.93038746929e-07\n",
      "8.88753856795e-10\n",
      "-0.932928978827 -0.359864448381 -2.60272221997e-05\n",
      "0.00617823701402 -0.0160557168372 -1.80434321219e-07\n",
      "9.5494572852e-11\n",
      "0.980528403182 -1.16151497678 0.00016637970286\n",
      "0.0106875677458 0.00899506797889 1.8790001203e-06\n",
      "2.82474705462e-07\n",
      "-5.01406544849 -2.12898103637 0.120976893005\n",
      "0.00286116217368 -0.00658796936244 -3.66380492075e-05\n",
      "8.4576187896e-08\n",
      "-1.01264638527 -9.99941754135 0.21416400292\n",
      "0.00524432911633 -0.000579946093552 -0.000198642119843\n",
      "1.29188735613e-08\n",
      "18.076310869 8.38763784834 -0.203029803882\n",
      "-0.00168426517818 0.00338438651774 3.43914855749e-05\n",
      "1.52403510768e-08\n",
      "28.4979255611 -9.19934876347 -0.467320427881\n",
      "0.000943452750156 0.00300599770798 -8.36454108122e-05\n",
      "\n"
     ]
    }
   ],
   "source": [
    "with open(simulation_name + \"/\" + simulation_name + \"-A-001/pl.in\") as f:\n",
    "    print(f.read())"
   ]
  },
  {
   "cell_type": "markdown",
   "metadata": {},
   "source": [
    "### tp.in"
   ]
  },
  {
   "cell_type": "code",
   "execution_count": 49,
   "metadata": {
    "collapsed": false
   },
   "outputs": [
    {
     "name": "stdout",
     "output_type": "stream",
     "text": [
      "\n",
      "0\n",
      "\n"
     ]
    }
   ],
   "source": [
    "with open(simulation_name + \"/\" + simulation_name + \"-A-001/tp.in\") as f:\n",
    "    print(f.read())"
   ]
  },
  {
   "cell_type": "markdown",
   "metadata": {},
   "source": [
    "### param.in"
   ]
  },
  {
   "cell_type": "code",
   "execution_count": 50,
   "metadata": {
    "collapsed": false
   },
   "outputs": [
    {
     "name": "stdout",
     "output_type": "stream",
     "text": [
      "0.0e0 3.65249999999e8 0.2\n",
      "3.6525e5 3.6525e5\n",
      "F T F T T F\n",
      "-1.0 1000.0 -1.0 -1.0 F\n",
      "bin.dat\n",
      "unknown\n"
     ]
    }
   ],
   "source": [
    "with open(simulation_name + \"/\" + simulation_name + \"-A-001/param.in\") as f:\n",
    "    print(f.read())"
   ]
  },
  {
   "cell_type": "markdown",
   "metadata": {},
   "source": [
    "### swift_mvs.in"
   ]
  },
  {
   "cell_type": "code",
   "execution_count": 51,
   "metadata": {
    "collapsed": false
   },
   "outputs": [
    {
     "name": "stdout",
     "output_type": "stream",
     "text": [
      "param.in\n",
      "pl.in\n",
      "tp.in\n"
     ]
    }
   ],
   "source": [
    "with open(simulation_name + \"/\" + simulation_name + \"-A-001/swift_mvs.in\") as f:\n",
    "    print(f.read())"
   ]
  }
 ],
 "metadata": {
  "kernelspec": {
   "display_name": "Python 3",
   "language": "python",
   "name": "python3"
  },
  "language_info": {
   "codemirror_mode": {
    "name": "ipython",
    "version": 3
   },
   "file_extension": ".py",
   "mimetype": "text/x-python",
   "name": "python",
   "nbconvert_exporter": "python",
   "pygments_lexer": "ipython3",
   "version": "3.6.0"
  }
 },
 "nbformat": 4,
 "nbformat_minor": 2
}
