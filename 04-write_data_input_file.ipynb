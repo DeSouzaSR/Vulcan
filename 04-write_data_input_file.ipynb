{
 "cells": [
  {
   "cell_type": "markdown",
   "metadata": {},
   "source": [
    "# Simulação de um Sistema Solar com um Vulcano"
   ]
  },
  {
   "cell_type": "markdown",
   "metadata": {},
   "source": [
    "## Criando arquivos de entrada para simulação"
   ]
  },
  {
   "cell_type": "code",
   "execution_count": 18,
   "metadata": {
    "collapsed": true
   },
   "outputs": [],
   "source": [
    "# Import modules\n",
    "import os\n",
    "import sys\n",
    "import yaml\n",
    "import shutil\n",
    "from glob import glob\n",
    "import pandas as pd"
   ]
  },
  {
   "cell_type": "markdown",
   "metadata": {},
   "source": [
    "## Definindo funções"
   ]
  },
  {
   "cell_type": "code",
   "execution_count": 19,
   "metadata": {
    "collapsed": true
   },
   "outputs": [],
   "source": [
    "def read_config_file(config_file):\n",
    "    \"\"\"\n",
    "    Read config file and go to home directory\n",
    "    \"\"\"\n",
    "    home_dir = os.path.dirname(os.path.abspath(config_file))\n",
    "    os.chdir(home_dir)\n",
    "\n",
    "    # Read yaml file\n",
    "    with open(config_file, 'r') as stream:\n",
    "        try:\n",
    "            config = yaml.load(stream)\n",
    "        except yaml.YAMLError as exc:\n",
    "            print(exc)\n",
    "    \n",
    "    return config"
   ]
  },
  {
   "cell_type": "code",
   "execution_count": 20,
   "metadata": {
    "collapsed": true
   },
   "outputs": [],
   "source": [
    "def write_pl(pl):\n",
    "    \"\"\"\n",
    "    Write input files\n",
    "    \"\"\"\n",
    "    for i, j in enumerate(glob(\"*\")):\n",
    "        os.chdir(j)\n",
    "        with open(\"pl.in\", \"a\") as f:\n",
    "            f.write(str(pl.ix[i][\"mass_grav\"]) + \"\\n\")\n",
    "            f.write(str(pl.ix[i][\"x\"]) + \" \" + str(pl.ix[i][\"y\"]) + \" \" + str(pl.ix[i][\"z\"]) + \"\\n\")\n",
    "            f.write(str(pl.ix[i][\"vx\"]) + \" \" + str(pl.ix[i][\"vy\"]) + \" \" + str(pl.ix[i][\"vz\"]) + \"\\n\")\n",
    "        os.chdir(\"../\")"
   ]
  },
  {
   "cell_type": "markdown",
   "metadata": {},
   "source": [
    "## Leitura do arquivo de configuração e definição de variáveis"
   ]
  },
  {
   "cell_type": "code",
   "execution_count": 21,
   "metadata": {
    "collapsed": true
   },
   "outputs": [],
   "source": [
    "config_file = \"config.yaml\"\n",
    "home_dir = os.path.dirname(os.path.abspath(config_file))\n",
    "os.chdir(home_dir)\n",
    "\n",
    "config = read_config_file(\"config.yaml\")\n",
    "simulation_name = config[\"simulation_name\"]\n",
    "planets_name = config['planets_names']\n",
    "vulcan_variants_suffix = config[\"vulcans_semi_axis\"]\n",
    "vulcan_variants = len(config[\"vulcans_semi_axis\"])\n",
    "vulcan_clones = config[\"vulcans_clones\"]\n",
    "subroutine_swift = config[\"subroutine_swift\"]"
   ]
  },
  {
   "cell_type": "markdown",
   "metadata": {},
   "source": [
    "## Abrindo os dataframes "
   ]
  },
  {
   "cell_type": "markdown",
   "metadata": {},
   "source": [
    "### Vulcan"
   ]
  },
  {
   "cell_type": "code",
   "execution_count": 22,
   "metadata": {
    "collapsed": true
   },
   "outputs": [],
   "source": [
    "### Open planet's data\n",
    "# vulcan\n",
    "vulcan = pd.read_csv(\"vulcan.csv\")"
   ]
  },
  {
   "cell_type": "markdown",
   "metadata": {},
   "source": [
    "### Planetas"
   ]
  },
  {
   "cell_type": "code",
   "execution_count": 23,
   "metadata": {
    "collapsed": true
   },
   "outputs": [],
   "source": [
    "# Other planets\n",
    "for i in planets_name:\n",
    "    exec(\"{0} = pd.read_csv('{0}' + '.csv')\".format(i))"
   ]
  },
  {
   "cell_type": "markdown",
   "metadata": {},
   "source": [
    "## Criando os dados para inserir nos arquivos de configuração"
   ]
  },
  {
   "cell_type": "markdown",
   "metadata": {},
   "source": [
    "### Sol"
   ]
  },
  {
   "cell_type": "code",
   "execution_count": 24,
   "metadata": {
    "collapsed": true
   },
   "outputs": [],
   "source": [
    "# ## Sun's data\n",
    "sun_data = \"\"\"10\n",
    "2.959139768995959E-04\n",
    "0.0 0.0 0.0\n",
    "0.0 0.0 0.0\n",
    "\"\"\"\n",
    "os.chdir(simulation_name)\n",
    "\n",
    "for i, j in enumerate(glob(\"*\")):\n",
    "    os.chdir(j)\n",
    "    with open(\"pl.in\", \"a\") as f:\n",
    "        f.write(sun_data)\n",
    "    os.chdir(\"../\")\n",
    "\n",
    "os.chdir(home_dir)"
   ]
  },
  {
   "cell_type": "markdown",
   "metadata": {},
   "source": [
    "### Vulcan"
   ]
  },
  {
   "cell_type": "code",
   "execution_count": 25,
   "metadata": {
    "collapsed": true
   },
   "outputs": [],
   "source": [
    "# vulcan\n",
    "os.chdir(simulation_name)\n",
    "\n",
    "write_pl(vulcan)\n",
    "\n",
    "os.chdir(home_dir)"
   ]
  },
  {
   "cell_type": "markdown",
   "metadata": {},
   "source": [
    "### Outros planetas"
   ]
  },
  {
   "cell_type": "code",
   "execution_count": 26,
   "metadata": {
    "collapsed": true
   },
   "outputs": [],
   "source": [
    "# Others planets\n",
    "os.chdir(simulation_name)\n",
    "# write input files\n",
    "\n",
    "for pl in planets_name:\n",
    "    exec(\"write_pl({0})\".format(pl))\n",
    "\n",
    "os.chdir(home_dir)"
   ]
  },
  {
   "cell_type": "markdown",
   "metadata": {},
   "source": [
    "### Partícula de testes"
   ]
  },
  {
   "cell_type": "code",
   "execution_count": 27,
   "metadata": {
    "collapsed": true
   },
   "outputs": [],
   "source": [
    "# ## Test particle\n",
    "# There is no test particle\n",
    "tp = \"\"\"\n",
    "0\n",
    "\"\"\"\n",
    "\n",
    "os.chdir(simulation_name)\n",
    "\n",
    "for i, j in enumerate(glob(\"*\")):\n",
    "    os.chdir(j)\n",
    "    with open(\"tp.in\", \"a\") as f:\n",
    "        f.write(tp)\n",
    "    os.chdir(\"../\")\n",
    "\n",
    "os.chdir(home_dir)"
   ]
  },
  {
   "cell_type": "markdown",
   "metadata": {},
   "source": [
    "### Parâmetros da simulação\n",
    "param.in"
   ]
  },
  {
   "cell_type": "code",
   "execution_count": 28,
   "metadata": {
    "collapsed": true
   },
   "outputs": [],
   "source": [
    "# ## Parameters of the simulation\n",
    "# \n",
    "# Write param.in\n",
    "initial_time= config[\"initial_time\"]\n",
    "time_stop= config[\"time_stop\"]\n",
    "timestep= config[\"timestep\"]\n",
    "dtout= config[\"dtout\"]\n",
    "dtdump= config[\"dtdump\"]\n",
    "L1= config[\"L1\"]\n",
    "L2= config[\"L2\"]\n",
    "L3= config[\"L3\"]\n",
    "L4= config[\"L4\"]\n",
    "L5= config[\"L5\"]\n",
    "L6= config[\"L6\"]\n",
    "rmin= config[\"rmin\"]\n",
    "rmax= config[\"rmax\"]\n",
    "rmaxu= config[\"rmaxu\"]\n",
    "qmin= config[\"qmin\"]\n",
    "lclose= config[\"lclose\"]\n",
    "binary_outputfile= config[\"binary_outputfile\"]\n",
    "status_flag_for_open_statements= config[\"status_flag_for_open_statements\"]\n",
    "\n",
    "string = \"\"\"{0} {1} {2}\n",
    "{3} {4}\n",
    "{5} {6} {7} {8} {9} {10}\n",
    "{11} {12} {13} {14} {15}\n",
    "{16}\n",
    "{17}\"\"\".format(initial_time, time_stop, timestep, dtout, dtdump, \\\n",
    "                        L1, L2, L3, L4, L5, L6, rmin, rmax, rmaxu, qmin, \\\n",
    "                        lclose, binary_outputfile, status_flag_for_open_statements)\n",
    "\n",
    "os.chdir(simulation_name)\n",
    "\n",
    "for i, j in enumerate(glob(\"*\")):\n",
    "    os.chdir(j)\n",
    "    with open(\"param.in\", \"a\") as f:\n",
    "        f.write(string)\n",
    "    os.chdir(\"../\")\n",
    "\n",
    "os.chdir(home_dir)"
   ]
  },
  {
   "cell_type": "markdown",
   "metadata": {},
   "source": [
    "### Argumento para a subrotina do SWIFT\n",
    "swift_mvs.in"
   ]
  },
  {
   "cell_type": "code",
   "execution_count": 29,
   "metadata": {
    "collapsed": true
   },
   "outputs": [],
   "source": [
    "# ## arguments for Swift routine \n",
    "os.chdir(simulation_name)\n",
    "\n",
    "for i, j in enumerate(glob(\"*\")):\n",
    "    os.chdir(j)\n",
    "    with open(subroutine_swift, \"a\") as f:\n",
    "        f.write(\"param.in\\n\")\n",
    "        f.write(\"pl.in\\n\")\n",
    "        f.write(\"tp.in\")\n",
    "    os.chdir(\"../\")\n",
    "\n",
    "os.chdir(home_dir)"
   ]
  },
  {
   "cell_type": "markdown",
   "metadata": {},
   "source": [
    "## Verificando dados"
   ]
  },
  {
   "cell_type": "markdown",
   "metadata": {},
   "source": [
    "### Dados no diretório de simulação"
   ]
  },
  {
   "cell_type": "code",
   "execution_count": 30,
   "metadata": {
    "collapsed": false
   },
   "outputs": [
    {
     "data": {
      "text/plain": [
       "['vulcan_mvs/vulcan_mvs-A-001/pl.in',\n",
       " 'vulcan_mvs/vulcan_mvs-A-001/tp.in',\n",
       " 'vulcan_mvs/vulcan_mvs-A-001/param.in',\n",
       " 'vulcan_mvs/vulcan_mvs-A-001/swift_mvs.in']"
      ]
     },
     "execution_count": 30,
     "metadata": {},
     "output_type": "execute_result"
    }
   ],
   "source": [
    "glob(simulation_name + \"/\" + simulation_name + \"-A-001/*\")"
   ]
  },
  {
   "cell_type": "markdown",
   "metadata": {},
   "source": [
    "### pl.in"
   ]
  },
  {
   "cell_type": "code",
   "execution_count": 31,
   "metadata": {
    "collapsed": false
   },
   "outputs": [
    {
     "name": "stdout",
     "output_type": "stream",
     "text": [
      "10\n",
      "2.959139768995959E-04\n",
      "0.0 0.0 0.0\n",
      "0.0 0.0 0.0\n",
      "8.88753856795e-10\n",
      "0.0322228881946 -0.0388547956677 5.83736871443e-07\n",
      "0.0585123570212 0.0488114573449 2.46262318524e-06\n",
      "8.88753856795e-10\n",
      "-0.160519238407 0.350467422863 -1.10953993424e-05\n",
      "-0.0252031857258 -0.0116476605985 -6.53506426286e-07\n",
      "7.24345628644e-10\n",
      "0.612205881108 -0.380876360556 -8.1932729965e-05\n",
      "0.0107356996565 0.0172183998229 -1.92933098973e-06\n",
      "8.88753856795e-10\n",
      "-0.886649473135 0.455132700562 -5.67839587112e-05\n",
      "-0.00785902637308 -0.0153670206309 -6.17135597772e-07\n",
      "9.5494572852e-11\n",
      "1.2881115618 0.794766192946 1.77626251569e-05\n",
      "-0.00740018866269 0.0119180685532 -1.32243838798e-07\n",
      "2.82474705462e-07\n",
      "-5.01564679347 -2.12533608925 0.12099712673\n",
      "0.166031887915 -0.383099822888 -0.00212275165168\n",
      "8.4576187896e-08\n",
      "-1.01554741332 -9.99909627946 0.214273878795\n",
      "0.304856193784 -0.0338073464286 -0.0115455453042\n",
      "1.29188735613e-08\n",
      "18.0772424721 8.38576561567 -0.203048827501\n",
      "-0.0978886846842 0.196752743324 0.00199901665646\n",
      "1.52403510768e-08\n",
      "28.4974036111 -9.20101161438 -0.467274155884\n",
      "0.0548553171681 0.174742720553 -0.00486267761233\n",
      "\n"
     ]
    }
   ],
   "source": [
    "with open(simulation_name + \"/\" + simulation_name + \"-A-001/pl.in\") as f:\n",
    "    print(f.read())"
   ]
  },
  {
   "cell_type": "markdown",
   "metadata": {},
   "source": [
    "### tp.in"
   ]
  },
  {
   "cell_type": "code",
   "execution_count": 32,
   "metadata": {
    "collapsed": false
   },
   "outputs": [
    {
     "name": "stdout",
     "output_type": "stream",
     "text": [
      "\n",
      "0\n",
      "\n"
     ]
    }
   ],
   "source": [
    "with open(simulation_name + \"/\" + simulation_name + \"-A-001/tp.in\") as f:\n",
    "    print(f.read())"
   ]
  },
  {
   "cell_type": "markdown",
   "metadata": {},
   "source": [
    "### param.in"
   ]
  },
  {
   "cell_type": "code",
   "execution_count": 33,
   "metadata": {
    "collapsed": false
   },
   "outputs": [
    {
     "name": "stdout",
     "output_type": "stream",
     "text": [
      "0.0e0 3.65249999999e8 0.2\n",
      "3.6525e5 3.6525e5\n",
      "F T F T T F\n",
      "-1.0 1000.0 -1.0 -1.0 F\n",
      "bin.out\n",
      "unknown\n"
     ]
    }
   ],
   "source": [
    "with open(simulation_name + \"/\" + simulation_name + \"-A-001/param.in\") as f:\n",
    "    print(f.read())"
   ]
  },
  {
   "cell_type": "markdown",
   "metadata": {},
   "source": [
    "### swift_mvs.in"
   ]
  },
  {
   "cell_type": "code",
   "execution_count": 34,
   "metadata": {
    "collapsed": false
   },
   "outputs": [
    {
     "name": "stdout",
     "output_type": "stream",
     "text": [
      "param.in\n",
      "pl.in\n",
      "tp.in\n"
     ]
    }
   ],
   "source": [
    "with open(simulation_name + \"/\" + simulation_name + \"-A-001/swift_mvs.in\") as f:\n",
    "    print(f.read())"
   ]
  }
 ],
 "metadata": {
  "kernelspec": {
   "display_name": "Python 3",
   "language": "python",
   "name": "python3"
  },
  "language_info": {
   "codemirror_mode": {
    "name": "ipython",
    "version": 3
   },
   "file_extension": ".py",
   "mimetype": "text/x-python",
   "name": "python",
   "nbconvert_exporter": "python",
   "pygments_lexer": "ipython3",
   "version": "3.6.0"
  }
 },
 "nbformat": 4,
 "nbformat_minor": 2
}
