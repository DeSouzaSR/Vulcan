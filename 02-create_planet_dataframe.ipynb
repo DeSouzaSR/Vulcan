{
 "cells": [
  {
   "cell_type": "markdown",
   "metadata": {},
   "source": [
    "# Simulação de um Sistema Solar com um vulcano"
   ]
  },
  {
   "cell_type": "markdown",
   "metadata": {},
   "source": [
    "## Criação de um dataframe com dos planetas dos SS"
   ]
  },
  {
   "cell_type": "code",
   "execution_count": 23,
   "metadata": {
    "collapsed": true
   },
   "outputs": [],
   "source": [
    "# Import modules\n",
    "import os\n",
    "import sys\n",
    "import yaml\n",
    "import pandas as pd\n",
    "import numpy as np\n",
    "import rebound\n",
    "from oe2pv import orbel_el2xv"
   ]
  },
  {
   "cell_type": "markdown",
   "metadata": {},
   "source": [
    "## Vetorizando a função de conversão de elementos orbitais"
   ]
  },
  {
   "cell_type": "code",
   "execution_count": 24,
   "metadata": {
    "collapsed": true
   },
   "outputs": [],
   "source": [
    "# Transforms orbel_el2xv in vectorized function\n",
    "orbel_el2xv_vec = np.vectorize(orbel_el2xv)"
   ]
  },
  {
   "cell_type": "markdown",
   "metadata": {},
   "source": [
    "## Definindo funções"
   ]
  },
  {
   "cell_type": "code",
   "execution_count": 25,
   "metadata": {
    "collapsed": true
   },
   "outputs": [],
   "source": [
    "def read_config_file(config_file):\n",
    "    \"\"\"\n",
    "    Read config file and go to home directory\n",
    "    \"\"\"\n",
    "    home_dir = os.path.dirname(os.path.abspath(config_file))\n",
    "    os.chdir(home_dir)\n",
    "\n",
    "    # Read yaml file\n",
    "    with open(config_file, 'r') as stream:\n",
    "        try:\n",
    "            config = yaml.load(stream)\n",
    "        except yaml.YAMLError as exc:\n",
    "            print(exc)\n",
    "    \n",
    "    return config"
   ]
  },
  {
   "cell_type": "markdown",
   "metadata": {},
   "source": [
    "## Leitura de arquivos de configuração e definição de variáveis"
   ]
  },
  {
   "cell_type": "code",
   "execution_count": 26,
   "metadata": {
    "collapsed": true
   },
   "outputs": [],
   "source": [
    "#Read config file\n",
    "config = read_config_file(\"config.yaml\")\n",
    "\n",
    "# Read variable in config file\n",
    "planets_names = config[\"planets_names\"]\n",
    "vulcans_variants = len(config[\"vulcans_semi_axis\"])\n",
    "vulcans_clones = config[\"vulcans_clones\"]\n",
    "\n",
    "# Mass of the Sum [kg]\n",
    "mass_sun_kg = config[\"mass_sun_kg\"]\n",
    "\n",
    "# Mass of the Sun, considering G = 1\n",
    "mass_sun_grav = config[\"mass_sun_grav\"]\n",
    "\n",
    "# Conic section is ellipse # Constant used in oe2pv function\n",
    "ialpha = config[\"ialpha\"]\n",
    "\n",
    "# Gravitational factor of the Sun\n",
    "gm = config[\"gm\"]"
   ]
  },
  {
   "cell_type": "markdown",
   "metadata": {},
   "source": [
    "## Criando dataframe inicial dos planetas"
   ]
  },
  {
   "cell_type": "code",
   "execution_count": 27,
   "metadata": {
    "collapsed": true
   },
   "outputs": [],
   "source": [
    "# Initial dataframe\n",
    "for i in planets_names:\n",
    "    # Create raw dataframe\n",
    "    exec(\"{0} = pd.DataFrame(config['{0}'], index = [0])\".format(i))"
   ]
  },
  {
   "cell_type": "markdown",
   "metadata": {},
   "source": [
    "## Incluindo outros dados que se repetirão"
   ]
  },
  {
   "cell_type": "code",
   "execution_count": 28,
   "metadata": {
    "collapsed": true
   },
   "outputs": [],
   "source": [
    "# Create gravitational mass\n",
    "for i in planets_names:\n",
    "    exec(\"{0}['mass_grav'] = {0}['mass'] * mass_sun_grav / mass_sun_kg\".format(i))\n",
    "\n",
    "# Create gmpl column\n",
    "for i in planets_names:\n",
    "    exec(\"{0}['gmpl'] = {0}['mass_grav'] + gm\".format(i))\n",
    "\n",
    "# Replicate initial values in each simulate\n",
    "for i in planets_names:\n",
    "    exec(\"{0} = {0}.append([{0}] * (vulcans_variants * vulcans_clones - 1),\\\n",
    "    ignore_index=True)\".format(i))"
   ]
  },
  {
   "cell_type": "markdown",
   "metadata": {},
   "source": [
    "## Criação de dados para os planetas terrestres"
   ]
  },
  {
   "cell_type": "code",
   "execution_count": 29,
   "metadata": {
    "collapsed": false
   },
   "outputs": [],
   "source": [
    "# Data for terrestrial planets\n",
    "terrestrial = planets_names[0:4]\n",
    "# Create random eccentricity\n",
    "# Usin numpy.random.ranf. For range = (a,b): (b - a) * random_sample() + a\n",
    "for i in terrestrial:\n",
    "    exec(\"{0}['e'] = 0.01 * np.random.ranf((vulcans_variants * \\\n",
    "    vulcans_clones,))\".format(i))\n",
    "\n",
    "# Create random inclination\n",
    "# Usin numpy.random.ranf. For range = (a,b): (b - a) * random_sample() + a\n",
    "for i in terrestrial:\n",
    "    exec(\"{0}['inc'] = np.deg2rad(0.01 * np.random.ranf((vulcans_variants *\\\n",
    "    vulcans_clones,)))\".format(i))\n",
    "\n",
    "# Create capom angle\n",
    "for i in terrestrial:\n",
    "    exec(\"{0}['capom'] = np.deg2rad(np.random.randint(0, 361, \\\n",
    "    vulcans_variants * vulcans_clones))\".format(i))\n",
    "\n",
    "# Create omega angle\n",
    "for i in terrestrial:\n",
    "    exec(\"{0}['omega'] = np.deg2rad(np.random.randint(0, 361,\\\n",
    "    vulcans_variants * vulcans_clones))\".format(i))\n",
    "\n",
    "# Create M angle - Mean Anomaly\n",
    "for i in terrestrial:\n",
    "    exec(\"{0}['capm'] = np.deg2rad(np.random.randint(0, 361,\\\n",
    "    vulcans_variants * vulcans_clones))\".format(i))\n",
    "\n",
    "# Create postions and velocities \n",
    "for i in terrestrial:\n",
    "    exec('x, y, z, vx, vy, vz = orbel_el2xv_vec({0}[\"gmpl\"],\\\n",
    "        ialpha,{0}[\"a\"], {0}[\"e\"], {0}[\"inc\"], {0}[\"capom\"],\\\n",
    "        {0}[\"omega\"],{0}[\"capm\"])'.format(i))\n",
    "    for j in ['x', 'y', 'z', 'vx', 'vy', 'vz']:\n",
    "        exec(\"{0}['{1}'] = {1} \".format(i, j))"
   ]
  },
  {
   "cell_type": "markdown",
   "metadata": {},
   "source": [
    "## Criação dos dados para os planetas gigantes"
   ]
  },
  {
   "cell_type": "code",
   "execution_count": 30,
   "metadata": {
    "collapsed": false
   },
   "outputs": [
    {
     "name": "stdout",
     "output_type": "stream",
     "text": [
      "Searching NASA Horizons for 'jupiter'... Found: Jupiter Barycenter (5).\n",
      "Searching NASA Horizons for 'saturn'... Found: Saturn Barycenter (6).\n",
      "Searching NASA Horizons for 'uranus'... Found: Uranus Barycenter (7).\n",
      "Searching NASA Horizons for 'neptune'... Found: Neptune Barycenter (8).\n"
     ]
    }
   ],
   "source": [
    "# Data for giants planets\n",
    "giants = planets_names[4:8]\n",
    "sim = rebound.Simulation()\n",
    "sim.units = ('day', 'AU', 'Msun')\n",
    "for i in giants:\n",
    "    sim.add(i) # Read data from NASA\n",
    "    \n",
    "for j, p in zip(giants, sim.particles):\n",
    "    exec(\"{0}['x'] = {1}\".format(j,p.x))\n",
    "for j, p in zip(giants, sim.particles):\n",
    "    exec(\"{0}['y'] = {1}\".format(j,p.y))\n",
    "for j, p in zip(giants, sim.particles):\n",
    "    exec(\"{0}['z'] = {1}\".format(j,p.z))\n",
    "for j, p in zip(giants, sim.particles):\n",
    "    exec(\"{0}['vx'] = {1}\".format(j,p.vx))\n",
    "for j, p in zip(giants, sim.particles):\n",
    "    exec(\"{0}['vy'] = {1}\".format(j,p.vy))\n",
    "for j, p in zip(giants, sim.particles):\n",
    "    exec(\"{0}['vz'] = {1}\".format(j,p.vz))\n",
    "\n",
    "# Save planet dataframe\n",
    "for i in planets_names:\n",
    "    exec(\"{0}.to_csv('{0}.csv', index=False)\".format(i))"
   ]
  },
  {
   "cell_type": "markdown",
   "metadata": {},
   "source": [
    "## Verificando arquivos criados\n",
    "### Mercúrio"
   ]
  },
  {
   "cell_type": "code",
   "execution_count": 31,
   "metadata": {
    "collapsed": false
   },
   "outputs": [
    {
     "name": "stdout",
     "output_type": "stream",
     "text": [
      "          a          mass     radio     mass_grav      gmpl         e  \\\n",
      "0  0.387099  5.972300e+24  6378.137  8.887539e-10  0.000296  0.002924   \n",
      "1  0.387099  5.972300e+24  6378.137  8.887539e-10  0.000296  0.003082   \n",
      "2  0.387099  5.972300e+24  6378.137  8.887539e-10  0.000296  0.006588   \n",
      "3  0.387099  5.972300e+24  6378.137  8.887539e-10  0.000296  0.007625   \n",
      "4  0.387099  5.972300e+24  6378.137  8.887539e-10  0.000296  0.004137   \n",
      "5  0.387099  5.972300e+24  6378.137  8.887539e-10  0.000296  0.003859   \n",
      "6  0.387099  5.972300e+24  6378.137  8.887539e-10  0.000296  0.007322   \n",
      "7  0.387099  5.972300e+24  6378.137  8.887539e-10  0.000296  0.007319   \n",
      "8  0.387099  5.972300e+24  6378.137  8.887539e-10  0.000296  0.005200   \n",
      "9  0.387099  5.972300e+24  6378.137  8.887539e-10  0.000296  0.006456   \n",
      "\n",
      "        inc     capom     omega      capm         x         y         z  \\\n",
      "0  0.000112  4.537856  1.221730  2.181662 -0.035641  0.386109 -0.000011   \n",
      "1  0.000146  0.750492  0.174533  4.660029  0.295048 -0.250685 -0.000056   \n",
      "2  0.000080  0.139626  1.989675  0.872665 -0.382243  0.049771  0.000008   \n",
      "3  0.000029  4.607669  3.979351  3.787364  0.381616 -0.077792  0.000011   \n",
      "4  0.000163  0.959931  0.017453  2.356194 -0.380663 -0.076299  0.000044   \n",
      "5  0.000012  3.438299  5.794493  3.019420  0.369675 -0.119732  0.000003   \n",
      "6  0.000135  4.729842  1.588250  1.745329 -0.086039  0.377941 -0.000011   \n",
      "7  0.000162  5.672320  3.473205  3.124139  0.372922 -0.113911  0.000020   \n",
      "8  0.000097  5.969026  1.762783  2.548181 -0.253355 -0.294879 -0.000035   \n",
      "9  0.000104  0.680678  4.712389  0.087266  0.267486 -0.276362 -0.000040   \n",
      "\n",
      "         vx        vy            vz  \n",
      "0 -0.027491 -0.002471 -2.984587e-06  \n",
      "1  0.017834  0.021122  4.799128e-07  \n",
      "2 -0.003724 -0.027514 -2.134546e-06  \n",
      "3  0.005366  0.026951  7.315214e-08  \n",
      "4  0.005339 -0.027046 -3.238176e-06  \n",
      "5  0.008499  0.026199 -2.657068e-07  \n",
      "6 -0.026967 -0.005935 -3.648956e-06  \n",
      "7  0.008021  0.026249  4.224024e-06  \n",
      "8  0.020829 -0.018001 -1.032001e-06  \n",
      "9  0.020006  0.019342  2.532117e-07  \n"
     ]
    }
   ],
   "source": [
    "read_mercury = pd.read_csv(\"mercury.csv\")\n",
    "print(read_mercury[:10])"
   ]
  },
  {
   "cell_type": "markdown",
   "metadata": {},
   "source": [
    "### Júpiter"
   ]
  },
  {
   "cell_type": "code",
   "execution_count": 32,
   "metadata": {
    "collapsed": false
   },
   "outputs": [
    {
     "name": "stdout",
     "output_type": "stream",
     "text": [
      "          a          mass    period    radio     mass_grav      gmpl  \\\n",
      "0  5.203363  1.898190e+27  4332.589  71492.0  2.824747e-07  0.000296   \n",
      "1  5.203363  1.898190e+27  4332.589  71492.0  2.824747e-07  0.000296   \n",
      "2  5.203363  1.898190e+27  4332.589  71492.0  2.824747e-07  0.000296   \n",
      "3  5.203363  1.898190e+27  4332.589  71492.0  2.824747e-07  0.000296   \n",
      "4  5.203363  1.898190e+27  4332.589  71492.0  2.824747e-07  0.000296   \n",
      "5  5.203363  1.898190e+27  4332.589  71492.0  2.824747e-07  0.000296   \n",
      "6  5.203363  1.898190e+27  4332.589  71492.0  2.824747e-07  0.000296   \n",
      "7  5.203363  1.898190e+27  4332.589  71492.0  2.824747e-07  0.000296   \n",
      "8  5.203363  1.898190e+27  4332.589  71492.0  2.824747e-07  0.000296   \n",
      "9  5.203363  1.898190e+27  4332.589  71492.0  2.824747e-07  0.000296   \n",
      "\n",
      "          x         y         z        vx        vy        vz  \n",
      "0 -5.014065 -2.128981  0.120977  0.002861 -0.006588 -0.000037  \n",
      "1 -5.014065 -2.128981  0.120977  0.002861 -0.006588 -0.000037  \n",
      "2 -5.014065 -2.128981  0.120977  0.002861 -0.006588 -0.000037  \n",
      "3 -5.014065 -2.128981  0.120977  0.002861 -0.006588 -0.000037  \n",
      "4 -5.014065 -2.128981  0.120977  0.002861 -0.006588 -0.000037  \n",
      "5 -5.014065 -2.128981  0.120977  0.002861 -0.006588 -0.000037  \n",
      "6 -5.014065 -2.128981  0.120977  0.002861 -0.006588 -0.000037  \n",
      "7 -5.014065 -2.128981  0.120977  0.002861 -0.006588 -0.000037  \n",
      "8 -5.014065 -2.128981  0.120977  0.002861 -0.006588 -0.000037  \n",
      "9 -5.014065 -2.128981  0.120977  0.002861 -0.006588 -0.000037  \n"
     ]
    }
   ],
   "source": [
    "read_jupiter = pd.read_csv(\"jupiter.csv\")\n",
    "print(read_jupiter[:10])"
   ]
  },
  {
   "cell_type": "markdown",
   "metadata": {},
   "source": [
    "## Comparando com os dados diretos da Horizons\n",
    "\n",
    "<https://ssd.jpl.nasa.gov/horizons.cgi#top>"
   ]
  },
  {
   "cell_type": "code",
   "execution_count": 33,
   "metadata": {
    "collapsed": false
   },
   "outputs": [
    {
     "name": "stdout",
     "output_type": "stream",
     "text": [
      "*******************************************************************************\n",
      "Ephemeris / WWW_USER Mon Jun 12 14:00:00 2017 Pasadena, USA      / Horizons    \n",
      "*******************************************************************************\n",
      "Target body name: Jupiter (599)                   {source: jup340_merged}\n",
      "Center body name: Solar System Barycenter (0)     {source: DE431mx}\n",
      "Center-site name: BODY CENTER\n",
      "*******************************************************************************\n",
      "Start time      : A.D. 2017-Jun-12 00:00:00.0000 TDB\n",
      "Stop  time      : A.D. 2017-Jun-13 00:00:00.0000 TDB\n",
      "Step-size       : 1440 minutes\n",
      "*******************************************************************************\n",
      "Center geodetic : 0.00000000,0.00000000,0.0000000 {E-lon(deg),Lat(deg),Alt(km)}\n",
      "Center cylindric: 0.00000000,0.00000000,0.0000000 {E-lon(deg),Dxy(km),Dz(km)}\n",
      "Center radii    : (undefined)                                                  \n",
      "Output units    : AU-D                                                         \n",
      "Output type     : GEOMETRIC cartesian states\n",
      "Output format   : 3 (position, velocity, LT, range, range-rate)\n",
      "Reference frame : ICRF/J2000.0                                                 \n",
      "Coordinate systm: Ecliptic and Mean Equinox of Reference Epoch                 \n",
      "*******************************************************************************\n",
      "JDTDB\n",
      "   X     Y     Z\n",
      "   VX    VY    VZ\n",
      "   LT    RG    RR\n",
      "*******************************************************************************\n",
      "$$SOE\n",
      "2457916.500000000 = A.D. 2017-Jun-12 00:00:00.0000 TDB \n",
      " X =-5.018379344552154E+00 Y =-2.119021963947969E+00 Z = 1.210319721999704E-01\n",
      " VX= 2.847475971769038E-03 VY=-6.593940793415687E-03 VZ=-3.630672190367409E-05\n",
      " LT= 3.146943898385984E-02 RG= 5.448764453324830E+00 RR=-5.898649272202895E-05\n",
      "2457917.500000000 = A.D. 2017-Jun-13 00:00:00.0000 TDB \n",
      " X =-5.015527247129853E+00 Y =-2.125614420683046E+00 Z = 1.209955392235033E-01\n",
      " VX= 2.857367989095390E-03 VY=-6.590635300324684E-03 VZ=-3.653719798141482E-05\n",
      " LT= 3.146909771712306E-02 RG= 5.448705364821048E+00 RR=-5.991852828582489E-05\n",
      "$$EOE\n",
      "*******************************************************************************\n",
      "Coordinate system description:\n",
      "\n",
      "  Ecliptic and Mean Equinox of Reference Epoch\n",
      "\n",
      "    Reference epoch: J2000.0\n",
      "    XY-plane: plane of the Earth's orbit at the reference epoch\n",
      "              Note: obliquity of 84381.448 arcseconds wrt ICRF equator (IAU76)\n",
      "    X-axis  : out along ascending node of instantaneous plane of the Earth's\n",
      "              orbit and the Earth's mean equator at the reference epoch\n",
      "    Z-axis  : perpendicular to the xy-plane in the directional (+ or -) sense\n",
      "              of Earth's north pole at the reference epoch.\n",
      "\n",
      "  Symbol meaning [1 au= 149597870.700 km, 1 day= 86400.0 s]:\n",
      "\n",
      "    JDTDB    Julian Day Number, Barycentric Dynamical Time\n",
      "      X      X-component of position vector (au)                               \n",
      "      Y      Y-component of position vector (au)                               \n",
      "      Z      Z-component of position vector (au)                               \n",
      "      VX     X-component of velocity vector (au/day)                           \n",
      "      VY     Y-component of velocity vector (au/day)                           \n",
      "      VZ     Z-component of velocity vector (au/day)                           \n",
      "      LT     One-way down-leg Newtonian light-time (day)                       \n",
      "      RG     Range; distance from coordinate center (au)                       \n",
      "      RR     Range-rate; radial velocity wrt coord. center (au/day)            \n",
      "\n",
      "Geometric states/elements have no aberrations applied.\n",
      "\n",
      " Computations by ...\n",
      "     Solar System Dynamics Group, Horizons On-Line Ephemeris System\n",
      "     4800 Oak Grove Drive, Jet Propulsion Laboratory\n",
      "     Pasadena, CA  91109   USA\n",
      "     Information: http://ssd.jpl.nasa.gov/\n",
      "     Connect    : telnet://ssd.jpl.nasa.gov:6775  (via browser)\n",
      "                  http://ssd.jpl.nasa.gov/?horizons\n",
      "                  telnet ssd.jpl.nasa.gov 6775    (via command-line)\n",
      "     Author     : Jon.D.Giorgini@jpl.nasa.gov\n",
      "*******************************************************************************\n"
     ]
    }
   ],
   "source": [
    "with open(\"Jupiter_verification_Horizons.txt\", \"r\") as f:\n",
    "    print(f.read())"
   ]
  },
  {
   "cell_type": "code",
   "execution_count": null,
   "metadata": {
    "collapsed": true
   },
   "outputs": [],
   "source": []
  }
 ],
 "metadata": {
  "kernelspec": {
   "display_name": "Python 3",
   "language": "python",
   "name": "python3"
  },
  "language_info": {
   "codemirror_mode": {
    "name": "ipython",
    "version": 3
   },
   "file_extension": ".py",
   "mimetype": "text/x-python",
   "name": "python",
   "nbconvert_exporter": "python",
   "pygments_lexer": "ipython3",
   "version": "3.6.0"
  }
 },
 "nbformat": 4,
 "nbformat_minor": 2
}
